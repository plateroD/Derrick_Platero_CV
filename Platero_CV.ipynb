{
 "cells": [
  {
   "cell_type": "code",
   "execution_count": 23,
   "metadata": {},
   "outputs": [],
   "source": [
    "template = \"\"\"\n",
    "<!DOCTYPE html>\n",
    "<html lang=\"en\">\n",
    "<head>\n",
    "    <meta charset=\"UTF-8\">\n",
    "    <meta name=\"viewport\" content=\"width=device-width, initial-scale=1.0\">\n",
    "    <title>{{ name }}&#39;s CV</title>\n",
    "    <style>\n",
    "        body { font-family: Arial, sans-serif; margin: 40px; line-height: 1.6; }\n",
    "        h1, h2 { color: #003366; }\n",
    "        .section { margin-bottom: 20px; }\n",
    "        .section h2 { border-bottom: 1px solid #003366; padding-bottom: 5px; }\n",
    "        .subheading { font-weight: bold; }\n",
    "        .details { font-style: italic; }\n",
    "    </style>\n",
    "</head>\n",
    "<body>\n",
    "    <h1>{{ name }}</h1>\n",
    "    <p><strong>Phone:</strong> {{ phone }}<br>\n",
    "       <strong>Email:</strong> {{ email }}<br>\n",
    "       <strong>GitHub:</strong> <a href=\"{{ github }}\">{{ github }}</a><br>\n",
    "       <strong>LinkedIn:</strong> <a href=\"{{ linkedin }}\">{{ linkedin }}</a></p>\n",
    "\n",
    "    <div class=\"section\">\n",
    "        <h2>Education</h2>\n",
    "        {% for edu in education %}\n",
    "        <h3>{{ edu.degree }} in {{ edu.field }} - {{ edu.university }}</h3>\n",
    "        <p class=\"details\">{{ edu.details }}</p>\n",
    "        {% endfor %}\n",
    "    </div>\n",
    "\n",
    "    <div class=\"section\">\n",
    "        <h2>Research Experience</h2>\n",
    "        {% for exp in experience %}\n",
    "        <h3>{{ exp.title }} - {{ exp.institution }}</h3>\n",
    "        <p class=\"details\">{{ exp.dates }}</p>\n",
    "        <ul>\n",
    "            {% for item in exp.details %}\n",
    "            <li>{{ item }}</li>\n",
    "            {% endfor %}\n",
    "        </ul>\n",
    "        {% endfor %}\n",
    "    </div>\n",
    "\n",
    "    <div class=\"section\">\n",
    "        <h2>Skills</h2>\n",
    "        <ul>\n",
    "            {% for skill in skills %}\n",
    "            <li>{{ skill }}</li>\n",
    "            {% endfor %}\n",
    "        </ul>\n",
    "    </div>\n",
    "\n",
    "    <div class=\"section\">\n",
    "        <h2>Publications</h2>\n",
    "        <ul>\n",
    "            {% for pub in publications %}\n",
    "            <li>{{ pub }}</li>\n",
    "            {% endfor %}\n",
    "        </ul>\n",
    "    </div>\n",
    "</body>\n",
    "</html>\n",
    "\"\"\"\n"
   ]
  },
  {
   "cell_type": "code",
   "execution_count": 24,
   "metadata": {},
   "outputs": [],
   "source": [
    "data = {\n",
    "    \"name\": \"Derrick Platero\",\n",
    "    \"phone\": \"(505) 785-9404\",\n",
    "    \"email\": \"dplatero@iastate.edu\",\n",
    "    \"github\": \"https://github.com/plateroD\",\n",
    "    \"linkedin\": \"https://linkedin.com/in/derrick-platero\",\n",
    "    \"education\": [\n",
    "        {\n",
    "            \"degree\": \"PhD in Soil Science\",\n",
    "            \"field\": \"Soil Science and Geomorphology\",\n",
    "            \"university\": \"Iowa State University\",\n",
    "            \"location\": \"Ames, IA\",\n",
    "            \"expected_completion\": \"05/2028\",\n",
    "            \"dissertation\": \"Validating Hillslope Erosion Models: From Soil Science to Geomorphology\",\n",
    "            \"advisor\": \"Bradley Miller\",\n",
    "            \"gpa\": \"3.7/4.0\",\n",
    "            \"highlights\": \"Research focus: Comparing geomorphological and agricultural models of sediment transport and elevation changes, validating the results against real-world data.\"\n",
    "        },\n",
    "        {\n",
    "            \"degree\": \"Master of Science in Soil Science\",\n",
    "            \"field\": \"Soil Science\",\n",
    "            \"university\": \"University of Georgia\",\n",
    "            \"location\": \"Athens, GA\",\n",
    "            \"expected_completion\": \"05/2022\",\n",
    "            \"thesis\": \"Determining Optimal Sample Size for Soil Texture Mapping in a Georgia Piedmont Floodplain, USA\",\n",
    "            \"advisor\": \"Matthew Levi & Nandita Gaur\",\n",
    "            \"gpa\": \"3.42/4.0\",\n",
    "            \"highlights\": \"\"\n",
    "        }\n",
    "    ],\n",
    "    \"experience\": [\n",
    "        {\n",
    "            \"position\": \"Graduate Research Assistant\",\n",
    "            \"institution\": \"Iowa State University\",\n",
    "            \"location\": \"Ames, IA\",\n",
    "            \"dates\": \"01/2023 - Present\",\n",
    "            \"details\": [\n",
    "                \"Researching and comparing geomorphological and agricultural models of sediment transport and elevation changes.\",\n",
    "                \"Validating model results against observed data.\",\n",
    "                \"Conducting statistical analysis and machine learning validation techniques.\"\n",
    "            ]\n",
    "        }\n",
    "    ],\n",
    "    \"skills\": [\"Programming: R, C++, Python (NumPy, Pandas, Matplotlib)\", \"GIS: ArcGIS, LiDAR analysis\"],\n",
    "    \"publications\": [\n",
    "        \"Platero, D., Levi, M., Gaur, N. (2023). Determining optimal sample size for soil texture mapping in a Georgia Piedmont floodplain, USA. Soil Science Society of America Journal. (pending).\"\n",
    "    ]\n",
    "}\n"
   ]
  },
  {
   "cell_type": "code",
   "execution_count": 25,
   "metadata": {},
   "outputs": [
    {
     "data": {
      "text/plain": [
       "True"
      ]
     },
     "execution_count": 25,
     "metadata": {},
     "output_type": "execute_result"
    }
   ],
   "source": [
    "from jinja2 import Environment, FileSystemLoader\n",
    "import pdfkit\n",
    "\n",
    "# Correct the path to point to the directory containing the template\n",
    "file_loader = FileSystemLoader(r'F:\\GitHub resp\\CV')\n",
    "\n",
    "# Initialize the environment with the loader\n",
    "env = Environment(loader=file_loader)\n",
    "\n",
    "# Now, use only the filename in get_template\n",
    "template = env.get_template('cv_template.html')\n",
    "\n",
    "# Define your data dictionary here (make sure it's defined before this step)\n",
    "data = {\n",
    "    # Your data structured as a dictionary\n",
    "}\n",
    "\n",
    "# Render the template with your data\n",
    "output = template.render(data)\n",
    "\n",
    "# Save the rendered HTML to a file (optional, for debugging)\n",
    "with open('output.html', 'w') as f:\n",
    "    f.write(output)\n",
    "\n",
    "# Specify the path to wkhtmltopdf\n",
    "path_wkhtmltopdf = r'C:\\Program Files\\wkhtmltopdf\\bin\\wkhtmltopdf.exe'\n",
    "config = pdfkit.configuration(wkhtmltopdf=path_wkhtmltopdf)\n",
    "\n",
    "# Convert HTML to PDF\n",
    "pdfkit.from_string(output, 'output.pdf', configuration=config)\n"
   ]
  },
  {
   "cell_type": "code",
   "execution_count": 26,
   "metadata": {},
   "outputs": [
    {
     "data": {
      "text/plain": [
       "True"
      ]
     },
     "execution_count": 26,
     "metadata": {},
     "output_type": "execute_result"
    }
   ],
   "source": [
    "# Specify the path to wkhtmltopdf\n",
    "path_wkhtmltopdf = r'C:\\Program Files\\wkhtmltopdf\\bin\\wkhtmltopdf.exe'\n",
    "config = pdfkit.configuration(wkhtmltopdf=path_wkhtmltopdf)\n",
    "\n",
    "# Convert HTML to PDF\n",
    "pdfkit.from_string(output, 'output.pdf', configuration=config)\n"
   ]
  }
 ],
 "metadata": {
  "kernelspec": {
   "display_name": "DP",
   "language": "python",
   "name": "python3"
  },
  "language_info": {
   "codemirror_mode": {
    "name": "ipython",
    "version": 3
   },
   "file_extension": ".py",
   "mimetype": "text/x-python",
   "name": "python",
   "nbconvert_exporter": "python",
   "pygments_lexer": "ipython3",
   "version": "3.12.2"
  }
 },
 "nbformat": 4,
 "nbformat_minor": 2
}
